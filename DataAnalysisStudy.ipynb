{
 "cells": [
  {
   "attachments": {},
   "cell_type": "markdown",
   "metadata": {},
   "source": [
    "# Data Analysis Study\n",
    "\n",
    "![ML Pathway2](https://github.com/Adribom/Kaggle-Competition/assets/50799373/45829c9b-c914-4060-b5a3-6a16756dec6e)\n",
    "\n",
    "## Task Type \n",
    "we are dealing with a regression type of task, that way, we can focus on models that implements predictions of continuous values."
   ]
  }
 ],
 "metadata": {
  "language_info": {
   "name": "python"
  },
  "orig_nbformat": 4
 },
 "nbformat": 4,
 "nbformat_minor": 2
}
