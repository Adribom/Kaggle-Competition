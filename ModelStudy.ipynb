{
 "cells": [
  {
   "attachments": {},
   "cell_type": "markdown",
   "metadata": {},
   "source": [
    "# Model Study\n",
    "\n",
    "![ML Pathway3](https://github.com/Adribom/Kaggle-Competition/assets/50799373/1a367900-44d1-459f-8810-6f22f3489fec)"
   ]
  }
 ],
 "metadata": {
  "language_info": {
   "name": "python"
  },
  "orig_nbformat": 4
 },
 "nbformat": 4,
 "nbformat_minor": 2
}
